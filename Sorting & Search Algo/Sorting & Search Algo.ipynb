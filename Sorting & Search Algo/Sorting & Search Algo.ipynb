{
 "cells": [
  {
   "attachments": {},
   "cell_type": "markdown",
   "id": "86d76e15",
   "metadata": {},
   "source": [
    "## Linear Search"
   ]
  },
  {
   "cell_type": "code",
   "execution_count": 1,
   "id": "af2755c2",
   "metadata": {},
   "outputs": [],
   "source": [
    "\n",
    "def Linear_search(arr, x):\n",
    " \n",
    "    for i in range(len(arr)):\n",
    " \n",
    "        if arr[i] == x:\n",
    "            return i\n",
    " \n",
    "    return -1"
   ]
  },
  {
   "cell_type": "code",
   "execution_count": 132,
   "id": "ec484537",
   "metadata": {},
   "outputs": [],
   "source": [
    "def binary_search(lst, start, end, element):\n",
    "    if (end >= start):\n",
    "        mid = (start + end) //2 \n",
    "        if (lst[mid] == element):\n",
    "            return mid\n",
    "        elif (lst[mid] > element):\n",
    "            return binary_search(lst, start, mid - 1, element)\n",
    "\n",
    "        elif (lst[mid] < element):\n",
    "            return binary_search(lst, mid + 1,end, element)\n",
    "\n",
    "    else:\n",
    "        return -1"
   ]
  },
  {
   "cell_type": "code",
   "execution_count": 133,
   "id": "765d1988",
   "metadata": {},
   "outputs": [
    {
     "name": "stdout",
     "output_type": "stream",
     "text": [
      "out greater -1\n",
      "end 7\n",
      "frist 0\n",
      "mid 5\n",
      "out less -1\n"
     ]
    }
   ],
   "source": [
    "lst = [1,2,4,5,6,8,20,30]\n",
    "start = 0\n",
    "end = len(lst)\n",
    "element = 36\n",
    "print(\"out greater\",binary_search(lst, start, end-1, element))\n",
    "element = 30\n",
    "print(\"end\",binary_search(lst, start, end-1, element))\n",
    "element = 1\n",
    "print(\"frist\",binary_search(lst, start, end-1, element))\n",
    "element = 8\n",
    "print(\"mid\",binary_search(lst, start, end-1, element))\n",
    "element = -1\n",
    "print(\"out less\",binary_search(lst, start, end-1, element))"
   ]
  },
  {
   "cell_type": "code",
   "execution_count": 134,
   "id": "fa128206",
   "metadata": {},
   "outputs": [],
   "source": [
    "def binary_search2(lst, element):\n",
    "    start = 0  \n",
    "    end = len(lst) - 1  \n",
    "    while start <= end:   \n",
    "        mid = (start + end) // 2  \n",
    "        if lst[mid] < element:  \n",
    "            start = mid + 1  \n",
    "      \n",
    "        elif lst[mid] > element:  \n",
    "            end = mid - 1  \n",
    "  \n",
    "        else:  \n",
    "            return mid  \n",
    "  \n",
    "\n",
    "    return -1  \n",
    "             \n"
   ]
  },
  {
   "cell_type": "code",
   "execution_count": 135,
   "id": "905e1d9b",
   "metadata": {},
   "outputs": [
    {
     "name": "stdout",
     "output_type": "stream",
     "text": [
      "out greater -1\n",
      "end 7\n",
      "frist 0\n",
      "mid 5\n",
      "out less -1\n"
     ]
    }
   ],
   "source": [
    "lst = [1,2,4,5,6,8,20,30]\n",
    "element = 36\n",
    "print(\"out greater\",binary_search2(lst, element))\n",
    "element = 30\n",
    "print(\"end\",binary_search2(lst, element))\n",
    "element = 1\n",
    "print(\"frist\",binary_search2(lst, element))\n",
    "element = 8\n",
    "print(\"mid\",binary_search2(lst, element))\n",
    "element = -1\n",
    "print(\"out less\",binary_search2(lst, element))"
   ]
  },
  {
   "cell_type": "markdown",
   "id": "2935588d",
   "metadata": {},
   "source": [
    "## Bubble"
   ]
  },
  {
   "cell_type": "code",
   "execution_count": 139,
   "id": "63d3bff1",
   "metadata": {},
   "outputs": [],
   "source": [
    "def bubble_sort(lst):\n",
    "    for i in range(len(lst)):\n",
    "        flag = 0\n",
    "        for j in range(i,len(lst)-1):\n",
    "            if (lst[i] > lst [j]):\n",
    "                lst [j], lst[i] = lst[i], lst[j]\n",
    "                flag = 1\n",
    "        if flag ==0:\n",
    "            return lst\n",
    "    return lst\n"
   ]
  },
  {
   "cell_type": "code",
   "execution_count": 140,
   "id": "31f49146",
   "metadata": {},
   "outputs": [],
   "source": [
    "lst2 = [8,20,60,70,0,1,2,90]"
   ]
  },
  {
   "cell_type": "code",
   "execution_count": 141,
   "id": "5a0a3ada",
   "metadata": {},
   "outputs": [
    {
     "name": "stdout",
     "output_type": "stream",
     "text": [
      "[0, 1, 2, 8, 20, 60, 70, 90]\n"
     ]
    }
   ],
   "source": [
    "print(bubble_sort(lst2))"
   ]
  },
  {
   "cell_type": "code",
   "execution_count": 147,
   "id": "ee5625ca",
   "metadata": {},
   "outputs": [],
   "source": [
    "def factorial(n):\n",
    "    if (n > 0):\n",
    "        if n == 1:  \n",
    "                return n  \n",
    "        else:  \n",
    "                return n*factorial(n-1)  \n",
    "    else:\n",
    "        return 1/n*factorial(-n-1)   \n"
   ]
  },
  {
   "cell_type": "markdown",
   "id": "a6ddf32b",
   "metadata": {},
   "source": []
  },
  {
   "cell_type": "code",
   "execution_count": null,
   "id": "a3eedfdc",
   "metadata": {},
   "outputs": [],
   "source": []
  },
  {
   "cell_type": "code",
   "execution_count": null,
   "id": "040c2c12",
   "metadata": {
    "scrolled": true
   },
   "outputs": [],
   "source": []
  },
  {
   "cell_type": "code",
   "execution_count": null,
   "id": "9743744d",
   "metadata": {},
   "outputs": [],
   "source": []
  },
  {
   "cell_type": "code",
   "execution_count": null,
   "id": "8acc5fd6",
   "metadata": {},
   "outputs": [],
   "source": []
  }
 ],
 "metadata": {
  "kernelspec": {
   "display_name": "Python 3",
   "language": "python",
   "name": "python3"
  },
  "language_info": {
   "codemirror_mode": {
    "name": "ipython",
    "version": 3
   },
   "file_extension": ".py",
   "mimetype": "text/x-python",
   "name": "python",
   "nbconvert_exporter": "python",
   "pygments_lexer": "ipython3",
   "version": "3.10.0"
  },
  "vscode": {
   "interpreter": {
    "hash": "fab90dc034b63d833bf927d58c7beda5d55d8e9054c69c83a954eb1b63b33dae"
   }
  }
 },
 "nbformat": 4,
 "nbformat_minor": 5
}
